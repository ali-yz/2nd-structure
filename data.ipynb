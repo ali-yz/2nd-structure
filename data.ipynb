{
  "cells": [
    {
      "cell_type": "code",
      "execution_count": 5,
      "metadata": {
        "colab": {
          "base_uri": "https://localhost:8080/"
        },
        "id": "yYeWVhDcvkr1",
        "outputId": "6bbb2655-665b-4e12-cfc2-f754277e7226"
      },
      "outputs": [
        {
          "name": "stdout",
          "output_type": "stream",
          "text": [
            "Structure exists: './data/sample/1tup.cif' \n",
            "PDB file saved to: ./data/sample/1tup.cif\n"
          ]
        }
      ],
      "source": [
        "from Bio.PDB import PDBList\n",
        "\n",
        "# Initialize the PDBList object\n",
        "pdb_list = PDBList()\n",
        "\n",
        "# Download a PDB file (e.g., PDB ID: \"1TUP\")\n",
        "pdb_id = \"1TUP\"\n",
        "save_dir = \"./data/sample\"  # Specify the directory to save the file\n",
        "\n",
        "# Fetch the PDB file\n",
        "pdb_file = pdb_list.retrieve_pdb_file(pdb_id, file_format=\"mmCif\", pdir=save_dir)\n",
        "\n",
        "print(f\"PDB file saved to: {pdb_file}\")\n"
      ]
    }
  ],
  "metadata": {
    "colab": {
      "authorship_tag": "ABX9TyOf9BugLYB+ySzXuJNvardR",
      "include_colab_link": true,
      "provenance": []
    },
    "kernelspec": {
      "display_name": ".venv",
      "language": "python",
      "name": "python3"
    },
    "language_info": {
      "codemirror_mode": {
        "name": "ipython",
        "version": 3
      },
      "file_extension": ".py",
      "mimetype": "text/x-python",
      "name": "python",
      "nbconvert_exporter": "python",
      "pygments_lexer": "ipython3",
      "version": "3.12.5"
    }
  },
  "nbformat": 4,
  "nbformat_minor": 0
}
