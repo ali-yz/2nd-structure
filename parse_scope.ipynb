{
 "cells": [
  {
   "cell_type": "code",
   "execution_count": 14,
   "metadata": {},
   "outputs": [],
   "source": [
    "from Bio.SCOP import Scop\n",
    "import pandas as pd"
   ]
  },
  {
   "cell_type": "code",
   "execution_count": 5,
   "metadata": {},
   "outputs": [
    {
     "data": {
      "text/plain": [
       "<Bio.SCOP.Scop at 0x10b4cf4a0>"
      ]
     },
     "execution_count": 5,
     "metadata": {},
     "output_type": "execute_result"
    }
   ],
   "source": [
    "scop = Scop(cla_handle=open('data/SCOPe/dir.cla.scope.2.08-stable.txt'),\n",
    "            des_handle=open('data/SCOPe/dir.des.scope.2.08-stable.txt'),\n",
    "            hie_handle=open('data/SCOPe/dir.hie.scope.2.08-stable.txt'))\n",
    "scop"
   ]
  },
  {
   "cell_type": "code",
   "execution_count": 6,
   "metadata": {},
   "outputs": [
    {
     "name": "stdout",
     "output_type": "stream",
     "text": [
      "SCOP Root\n"
     ]
    }
   ],
   "source": [
    "root = scop.getRoot()\n",
    "print(root.description)"
   ]
  },
  {
   "cell_type": "code",
   "execution_count": 16,
   "metadata": {},
   "outputs": [
    {
     "data": {
      "text/html": [
       "<div>\n",
       "<style scoped>\n",
       "    .dataframe tbody tr th:only-of-type {\n",
       "        vertical-align: middle;\n",
       "    }\n",
       "\n",
       "    .dataframe tbody tr th {\n",
       "        vertical-align: top;\n",
       "    }\n",
       "\n",
       "    .dataframe thead th {\n",
       "        text-align: right;\n",
       "    }\n",
       "</style>\n",
       "<table border=\"1\" class=\"dataframe\">\n",
       "  <thead>\n",
       "    <tr style=\"text-align: right;\">\n",
       "      <th></th>\n",
       "      <th>sid</th>\n",
       "      <th>sccs</th>\n",
       "      <th>description</th>\n",
       "      <th>pdb_id</th>\n",
       "    </tr>\n",
       "  </thead>\n",
       "  <tbody>\n",
       "    <tr>\n",
       "      <th>0</th>\n",
       "      <td>d1ux8a_</td>\n",
       "      <td>a.1.1.1</td>\n",
       "      <td>1ux8 A:</td>\n",
       "      <td>1ux8</td>\n",
       "    </tr>\n",
       "    <tr>\n",
       "      <th>1</th>\n",
       "      <td>d1dlwa_</td>\n",
       "      <td>a.1.1.1</td>\n",
       "      <td>1dlw A:</td>\n",
       "      <td>1dlw</td>\n",
       "    </tr>\n",
       "    <tr>\n",
       "      <th>2</th>\n",
       "      <td>d1uvya_</td>\n",
       "      <td>a.1.1.1</td>\n",
       "      <td>1uvy A:</td>\n",
       "      <td>1uvy</td>\n",
       "    </tr>\n",
       "    <tr>\n",
       "      <th>3</th>\n",
       "      <td>d1dlya_</td>\n",
       "      <td>a.1.1.1</td>\n",
       "      <td>1dly A:</td>\n",
       "      <td>1dly</td>\n",
       "    </tr>\n",
       "    <tr>\n",
       "      <th>4</th>\n",
       "      <td>d1uvxa_</td>\n",
       "      <td>a.1.1.1</td>\n",
       "      <td>1uvx A:</td>\n",
       "      <td>1uvx</td>\n",
       "    </tr>\n",
       "    <tr>\n",
       "      <th>...</th>\n",
       "      <td>...</td>\n",
       "      <td>...</td>\n",
       "      <td>...</td>\n",
       "      <td>...</td>\n",
       "    </tr>\n",
       "    <tr>\n",
       "      <th>344846</th>\n",
       "      <td>d2ehoc3</td>\n",
       "      <td>l.1.1.1</td>\n",
       "      <td>2eho C:0-0</td>\n",
       "      <td>2eho</td>\n",
       "    </tr>\n",
       "    <tr>\n",
       "      <th>344847</th>\n",
       "      <td>d2ehof3</td>\n",
       "      <td>l.1.1.1</td>\n",
       "      <td>2eho F:0-0</td>\n",
       "      <td>2eho</td>\n",
       "    </tr>\n",
       "    <tr>\n",
       "      <th>344848</th>\n",
       "      <td>d2ehog3</td>\n",
       "      <td>l.1.1.1</td>\n",
       "      <td>2eho G:0-0</td>\n",
       "      <td>2eho</td>\n",
       "    </tr>\n",
       "    <tr>\n",
       "      <th>344849</th>\n",
       "      <td>d2ehok3</td>\n",
       "      <td>l.1.1.1</td>\n",
       "      <td>2eho K:0-0</td>\n",
       "      <td>2eho</td>\n",
       "    </tr>\n",
       "    <tr>\n",
       "      <th>344850</th>\n",
       "      <td>d1n02a2</td>\n",
       "      <td>l.1.1.1</td>\n",
       "      <td>1n02 A:-1--1</td>\n",
       "      <td>1n02</td>\n",
       "    </tr>\n",
       "  </tbody>\n",
       "</table>\n",
       "<p>344851 rows × 4 columns</p>\n",
       "</div>"
      ],
      "text/plain": [
       "            sid     sccs   description pdb_id\n",
       "0       d1ux8a_  a.1.1.1       1ux8 A:   1ux8\n",
       "1       d1dlwa_  a.1.1.1       1dlw A:   1dlw\n",
       "2       d1uvya_  a.1.1.1       1uvy A:   1uvy\n",
       "3       d1dlya_  a.1.1.1       1dly A:   1dly\n",
       "4       d1uvxa_  a.1.1.1       1uvx A:   1uvx\n",
       "...         ...      ...           ...    ...\n",
       "344846  d2ehoc3  l.1.1.1    2eho C:0-0   2eho\n",
       "344847  d2ehof3  l.1.1.1    2eho F:0-0   2eho\n",
       "344848  d2ehog3  l.1.1.1    2eho G:0-0   2eho\n",
       "344849  d2ehok3  l.1.1.1    2eho K:0-0   2eho\n",
       "344850  d1n02a2  l.1.1.1  1n02 A:-1--1   1n02\n",
       "\n",
       "[344851 rows x 4 columns]"
      ]
     },
     "execution_count": 16,
     "metadata": {},
     "output_type": "execute_result"
    }
   ],
   "source": [
    "domains = scop.getDomains()\n",
    "sid_ = []\n",
    "sccs_ = []\n",
    "des_ = []\n",
    "pdb_id_ = []\n",
    "\n",
    "for domain in domains:\n",
    "    sid_.append(domain.sid)\n",
    "    sccs_.append(domain.sccs)\n",
    "    des_.append(domain.description)\n",
    "    pdb_id_.append(domain.description.split()[0])\n",
    "\n",
    "df = pd.DataFrame({'sid': sid_, 'sccs': sccs_, 'description': des_, 'pdb_id': pdb_id_})\n",
    "df"
   ]
  },
  {
   "cell_type": "code",
   "execution_count": 17,
   "metadata": {},
   "outputs": [
    {
     "data": {
      "text/plain": [
       "5431"
      ]
     },
     "execution_count": 17,
     "metadata": {},
     "output_type": "execute_result"
    }
   ],
   "source": [
    "df.sccs.nunique()"
   ]
  },
  {
   "cell_type": "code",
   "execution_count": 18,
   "metadata": {},
   "outputs": [
    {
     "data": {
      "text/html": [
       "<div>\n",
       "<style scoped>\n",
       "    .dataframe tbody tr th:only-of-type {\n",
       "        vertical-align: middle;\n",
       "    }\n",
       "\n",
       "    .dataframe tbody tr th {\n",
       "        vertical-align: top;\n",
       "    }\n",
       "\n",
       "    .dataframe thead th {\n",
       "        text-align: right;\n",
       "    }\n",
       "</style>\n",
       "<table border=\"1\" class=\"dataframe\">\n",
       "  <thead>\n",
       "    <tr style=\"text-align: right;\">\n",
       "      <th></th>\n",
       "      <th>sid</th>\n",
       "      <th>sccs</th>\n",
       "      <th>description</th>\n",
       "      <th>pdb_id</th>\n",
       "    </tr>\n",
       "  </thead>\n",
       "  <tbody>\n",
       "    <tr>\n",
       "      <th>70</th>\n",
       "      <td>d1asha_</td>\n",
       "      <td>a.1.1.2</td>\n",
       "      <td>1ash A:</td>\n",
       "      <td>1ash</td>\n",
       "    </tr>\n",
       "    <tr>\n",
       "      <th>71</th>\n",
       "      <td>d1vhba_</td>\n",
       "      <td>a.1.1.2</td>\n",
       "      <td>1vhb A:</td>\n",
       "      <td>1vhb</td>\n",
       "    </tr>\n",
       "    <tr>\n",
       "      <th>72</th>\n",
       "      <td>d1vhbb_</td>\n",
       "      <td>a.1.1.2</td>\n",
       "      <td>1vhb B:</td>\n",
       "      <td>1vhb</td>\n",
       "    </tr>\n",
       "    <tr>\n",
       "      <th>73</th>\n",
       "      <td>d4vhba_</td>\n",
       "      <td>a.1.1.2</td>\n",
       "      <td>4vhb A:</td>\n",
       "      <td>4vhb</td>\n",
       "    </tr>\n",
       "    <tr>\n",
       "      <th>74</th>\n",
       "      <td>d4vhbb_</td>\n",
       "      <td>a.1.1.2</td>\n",
       "      <td>4vhb B:</td>\n",
       "      <td>4vhb</td>\n",
       "    </tr>\n",
       "    <tr>\n",
       "      <th>...</th>\n",
       "      <td>...</td>\n",
       "      <td>...</td>\n",
       "      <td>...</td>\n",
       "      <td>...</td>\n",
       "    </tr>\n",
       "    <tr>\n",
       "      <th>2792</th>\n",
       "      <td>d3bj1c_</td>\n",
       "      <td>a.1.1.2</td>\n",
       "      <td>3bj1 C:</td>\n",
       "      <td>3bj1</td>\n",
       "    </tr>\n",
       "    <tr>\n",
       "      <th>2793</th>\n",
       "      <td>d3bj2a_</td>\n",
       "      <td>a.1.1.2</td>\n",
       "      <td>3bj2 A:</td>\n",
       "      <td>3bj2</td>\n",
       "    </tr>\n",
       "    <tr>\n",
       "      <th>2794</th>\n",
       "      <td>d3bj2c_</td>\n",
       "      <td>a.1.1.2</td>\n",
       "      <td>3bj2 C:</td>\n",
       "      <td>3bj2</td>\n",
       "    </tr>\n",
       "    <tr>\n",
       "      <th>2795</th>\n",
       "      <td>d3bj3a_</td>\n",
       "      <td>a.1.1.2</td>\n",
       "      <td>3bj3 A:</td>\n",
       "      <td>3bj3</td>\n",
       "    </tr>\n",
       "    <tr>\n",
       "      <th>2796</th>\n",
       "      <td>d3bj3c_</td>\n",
       "      <td>a.1.1.2</td>\n",
       "      <td>3bj3 C:</td>\n",
       "      <td>3bj3</td>\n",
       "    </tr>\n",
       "  </tbody>\n",
       "</table>\n",
       "<p>2727 rows × 4 columns</p>\n",
       "</div>"
      ],
      "text/plain": [
       "          sid     sccs description pdb_id\n",
       "70    d1asha_  a.1.1.2     1ash A:   1ash\n",
       "71    d1vhba_  a.1.1.2     1vhb A:   1vhb\n",
       "72    d1vhbb_  a.1.1.2     1vhb B:   1vhb\n",
       "73    d4vhba_  a.1.1.2     4vhb A:   4vhb\n",
       "74    d4vhbb_  a.1.1.2     4vhb B:   4vhb\n",
       "...       ...      ...         ...    ...\n",
       "2792  d3bj1c_  a.1.1.2     3bj1 C:   3bj1\n",
       "2793  d3bj2a_  a.1.1.2     3bj2 A:   3bj2\n",
       "2794  d3bj2c_  a.1.1.2     3bj2 C:   3bj2\n",
       "2795  d3bj3a_  a.1.1.2     3bj3 A:   3bj3\n",
       "2796  d3bj3c_  a.1.1.2     3bj3 C:   3bj3\n",
       "\n",
       "[2727 rows x 4 columns]"
      ]
     },
     "execution_count": 18,
     "metadata": {},
     "output_type": "execute_result"
    }
   ],
   "source": [
    "df[df.sccs == \"a.1.1.2\"]"
   ]
  }
 ],
 "metadata": {
  "kernelspec": {
   "display_name": ".venv",
   "language": "python",
   "name": "python3"
  },
  "language_info": {
   "codemirror_mode": {
    "name": "ipython",
    "version": 3
   },
   "file_extension": ".py",
   "mimetype": "text/x-python",
   "name": "python",
   "nbconvert_exporter": "python",
   "pygments_lexer": "ipython3",
   "version": "3.12.5"
  }
 },
 "nbformat": 4,
 "nbformat_minor": 2
}
